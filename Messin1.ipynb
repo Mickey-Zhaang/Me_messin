{
 "cells": [
  {
   "cell_type": "code",
   "execution_count": null,
   "metadata": {},
   "outputs": [],
   "source": [
    "# primitive wordle for extension\n",
    "# @chat-GPT 3.5 for giving alternative(corrected) code/debugging this code. \n",
    "\n",
    "word_to_guess = \"apple\"\n",
    "# asks for the user to guess the x letter word\n",
    "user_input = input(f\"Guess the {len(word_to_guess)} letter word\")\n",
    "# defines how many tries/turns the user starts with\n",
    "turns = 5\n",
    "# defines a variable that stores the character indicator underneath the letters of word_to_guess\n",
    "correct_guesses = [\"_\"] * len(word_to_guess)\n",
    "\n",
    "# a while loop that sets a condition for turns > 0 to continuously run until turns = 0\n",
    "while turns > 0:\n",
    "    # if statement checks if the user's guess is eqal to the word_to_guess\n",
    "    if user_input == word_to_guess:\n",
    "        # this print statement uses the .join method to join together word_to_guess with spaces\n",
    "        print(\" \".join(correct_guesses))\n",
    "        # here the print statement will print the word_to_guess and breaks out of the while loop\n",
    "        print(word_to_guess)\n",
    "        break\n",
    "    # elif statemetns checks to see if the user_input is of length of word_to_guess and if the input was alphabetical\n",
    "    elif len(user_input) == len(word_to_guess) and user_input.isalpha():\n",
    "        # here a for loop will iterate char over the range of the length of word_to_guess\n",
    "        for char in range(len(word_to_guess)):\n",
    "            # this if statement checks to see if any of the characters/char match with the characters of word_to_guess hence the indexing using char\n",
    "            if word_to_guess[char] == user_input[char]:\n",
    "                # here the if statemetn will update correct_guesses to contain the char that the user correctly guessed in user_input\n",
    "                correct_guesses[char] = user_input[char]\n",
    "        # prints the updated correct_guesses assuming that user correctly guessed a char\n",
    "        print(\" \".join(correct_guesses))\n",
    "    # this is somethign I added to break out of the while loop when initially testing the code\n",
    "    elif user_input == 'del':\n",
    "        break\n",
    "    # if the user input anything that was not the length of the word_to_guess and wasn't alphebetical, then the print statement would return a message \n",
    "    else:\n",
    "        print(\"Invalid input. Please enter a single letter or the full word 'del' to exit.\")\n",
    "    # reduces turns by 1 for every iteration of the loop\n",
    "    turns -= 1\n",
    "    # if statement that checks if turns > 0 and if so then the input message will update to show how many turns user has left\n",
    "    if turns > 0:\n",
    "        user_input = input(f\"You have {turns} attempts left. Enter your guess: \").lower()\n",
    "# if statement basically stops the while loop if the user runs out of turns and has not guessed the word_to_guess\n",
    "if turns == 0 and \"\".join(correct_guesses) != word_to_guess:\n",
    "    # prints the message to the user about what the word_to_guess was\n",
    "    print(\"Out of attempts. The word was:\", word_to_guess)"
   ]
  }
 ],
 "metadata": {
  "language_info": {
   "name": "python"
  }
 },
 "nbformat": 4,
 "nbformat_minor": 2
}
