{
 "cells": [
  {
   "cell_type": "markdown",
   "metadata": {},
   "source": [
    "# Recursion"
   ]
  },
  {
   "cell_type": "code",
   "execution_count": 10,
   "metadata": {},
   "outputs": [
    {
     "data": {
      "text/plain": [
       "14098908906"
      ]
     },
     "execution_count": 10,
     "metadata": {},
     "output_type": "execute_result"
    }
   ],
   "source": [
    "def recursive_add(int1, int2):\n",
    "    # sets up a case for when int1 and int2 are positive integers and when either are negative\n",
    "    if int1 >= 0 and int2 >= 0:\n",
    "        # sets up base case for when int2 will equal 0\n",
    "        if int2 == 0:\n",
    "            # returns int1 once int2 is 0\n",
    "            return int1\n",
    "        # else is critical for settup the recusrive loop\n",
    "        else:\n",
    "            # calls the function again except subtracts 1 from int2 and adds 1 to int 1 thus starting a count\n",
    "            # int1 acts as our counter while int2 acts as a condition for when it equals zero, we have properly counted int1\n",
    "            return recursive_add(int1+1, int2-1)\n",
    "    else:\n",
    "        print('Error, please provide positive integers')\n",
    "\n",
    "recursive_add(14098908903, 3)"
   ]
  },
  {
   "cell_type": "code",
   "execution_count": null,
   "metadata": {},
   "outputs": [],
   "source": [
    "def count_down(num):\n",
    "    if num == 1:\n",
    "        print(num)\n",
    "        return num\n",
    "    else:\n",
    "        print(num)\n",
    "        return count_down(num - 1)\n",
    "    \n",
    "def find_in_list_of_list(lst):\n",
    "    item = input('What are you looking for?')\n",
    "\n",
    "    for element in lst:\n",
    "        if isinstance(element, list):\n",
    "            # If the element is a list, call the function recursively to search within that sublist\n",
    "            result = find_in_list_of_list(element)\n",
    "            if result:\n",
    "                return result\n",
    "        elif element == item:\n",
    "            return item\n",
    "\n",
    "    return False\n",
    "\n",
    "def factorial(n):\n",
    "    if n == 0 or n == 1:\n",
    "        return 1\n",
    "\n",
    "    else:\n",
    "        return n * factorial(n - 1)"
   ]
  },
  {
   "cell_type": "code",
   "execution_count": 6,
   "metadata": {},
   "outputs": [
    {
     "data": {
      "text/plain": [
       "5"
      ]
     },
     "execution_count": 6,
     "metadata": {},
     "output_type": "execute_result"
    }
   ],
   "source": [
    "num = '1230'\n",
    "\n",
    "int(num[1]) + int(num[2])"
   ]
  }
 ],
 "metadata": {
  "kernelspec": {
   "display_name": "Python 3",
   "language": "python",
   "name": "python3"
  },
  "language_info": {
   "codemirror_mode": {
    "name": "ipython",
    "version": 3
   },
   "file_extension": ".py",
   "mimetype": "text/x-python",
   "name": "python",
   "nbconvert_exporter": "python",
   "pygments_lexer": "ipython3",
   "version": "3.10.8"
  }
 },
 "nbformat": 4,
 "nbformat_minor": 2
}
