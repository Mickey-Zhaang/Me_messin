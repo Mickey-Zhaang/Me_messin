{
 "cells": [
  {
   "cell_type": "code",
   "execution_count": 1,
   "metadata": {},
   "outputs": [
    {
     "data": {
      "text/plain": [
       "'method'"
      ]
     },
     "execution_count": 1,
     "metadata": {},
     "output_type": "execute_result"
    }
   ],
   "source": [
    "# quiz 9\n",
    "\n",
    "#when a class adds functionality to a more general class\n",
    "\"this is called inheritance\"\n",
    "\n",
    "#something an object or class can do\n",
    "\"method\"\n",
    "\n",
    "#object-oriented programming\n",
    "\"OOP\"\n",
    "\n",
    "#an abstract definition of a data type\n",
    "\"class\"\n",
    "\n",
    "#an instance of a data type\n",
    "'object'\n",
    "\n",
    "#something an object or class has\n",
    "'attribute'\n"
   ]
  },
  {
   "cell_type": "code",
   "execution_count": null,
   "metadata": {},
   "outputs": [],
   "source": []
  }
 ],
 "metadata": {
  "kernelspec": {
   "display_name": "Python 3",
   "language": "python",
   "name": "python3"
  },
  "language_info": {
   "codemirror_mode": {
    "name": "ipython",
    "version": 3
   },
   "file_extension": ".py",
   "mimetype": "text/x-python",
   "name": "python",
   "nbconvert_exporter": "python",
   "pygments_lexer": "ipython3",
   "version": "3.10.8"
  }
 },
 "nbformat": 4,
 "nbformat_minor": 2
}
