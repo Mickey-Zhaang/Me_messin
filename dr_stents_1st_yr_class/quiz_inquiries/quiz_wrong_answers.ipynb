{
 "cells": [
  {
   "cell_type": "code",
   "execution_count": null,
   "metadata": {},
   "outputs": [],
   "source": [
    "# messed up on quiz\n",
    "\n",
    "\n",
    "my_dictionary = {}\n",
    "for i in range(5):\n",
    "    my_dictionary[i] = str(i)\n",
    "print(my_dictionary)"
   ]
  },
  {
   "cell_type": "code",
   "execution_count": null,
   "metadata": {},
   "outputs": [],
   "source": [
    "# quiz problem I missed: logic flow problem\n",
    "\n",
    "# my answer\n",
    "try:\n",
    "    number = 2\n",
    "    while number > -1:\n",
    "        number = int(input(\"Give a number.\"))\n",
    "        if number >= 6:\n",
    "            print('Give a number less than 6!')\n",
    "        else:\n",
    "            for i in range (number, 6):\n",
    "                print(i)\n",
    "except Exception as e:\n",
    "   print(e)\n",
    "      \n",
    "# Prof. Answer\n",
    "number = 2\n",
    "while number > -1:\n",
    "  try:\n",
    "    number = int(input('Give a number: '))\n",
    "  except:\n",
    "    print('Give a number!')\n",
    "  if number >= 6:\n",
    "    print('Give a number less than 6!')\n",
    "  else:\n",
    "    for i in range(number, 6):\n",
    "      print(i)"
   ]
  },
  {
   "cell_type": "code",
   "execution_count": null,
   "metadata": {},
   "outputs": [],
   "source": [
    "# confusing stuff\n",
    "for i in range(10, 15, 1):\n",
    "    print(i, sep=', ')"
   ]
  },
  {
   "cell_type": "code",
   "execution_count": null,
   "metadata": {},
   "outputs": [],
   "source": [
    "# .append() adds element to the back oops\n",
    "sampleList = ['Jon', 'Kelly', 'Jessa']\n",
    "\n",
    "sampleList.append('Scott')\n",
    "\n",
    "print(sampleList)"
   ]
  },
  {
   "cell_type": "code",
   "execution_count": null,
   "metadata": {},
   "outputs": [],
   "source": []
  },
  {
   "cell_type": "code",
   "execution_count": null,
   "metadata": {},
   "outputs": [],
   "source": []
  },
  {
   "cell_type": "code",
   "execution_count": null,
   "metadata": {},
   "outputs": [],
   "source": []
  },
  {
   "cell_type": "code",
   "execution_count": null,
   "metadata": {},
   "outputs": [],
   "source": []
  },
  {
   "cell_type": "code",
   "execution_count": null,
   "metadata": {},
   "outputs": [],
   "source": []
  },
  {
   "cell_type": "code",
   "execution_count": null,
   "metadata": {},
   "outputs": [],
   "source": []
  },
  {
   "cell_type": "code",
   "execution_count": null,
   "metadata": {},
   "outputs": [],
   "source": []
  }
 ],
 "metadata": {
  "kernelspec": {
   "display_name": "Python 3",
   "language": "python",
   "name": "python3"
  },
  "language_info": {
   "codemirror_mode": {
    "name": "ipython",
    "version": 3
   },
   "file_extension": ".py",
   "mimetype": "text/x-python",
   "name": "python",
   "nbconvert_exporter": "python",
   "pygments_lexer": "ipython3",
   "version": "3.10.8"
  }
 },
 "nbformat": 4,
 "nbformat_minor": 2
}
