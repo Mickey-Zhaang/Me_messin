{
 "cells": [
  {
   "cell_type": "markdown",
   "metadata": {},
   "source": [
    "# Setup"
   ]
  },
  {
   "cell_type": "code",
   "execution_count": 1,
   "metadata": {},
   "outputs": [],
   "source": [
    "import spacy\n",
    "\n",
    "# create a spaCy engine\n",
    "nlp = spacy.load('en_core_web_sm')\n",
    "\n",
    "# make a document from https://www.maine.gov/dacf/mfs/projects/fall_foliage/whenandwhere/index.html\n",
    "doc = nlp('Maine\\'s state parks, mountains, farms and coast provide wonderful settings for fall leaf peeping. Generally northern Maine is at or near peak conditions the last week of September into the first week of October. Central, and western mountains of Maine are at or near peak Indigenous Peoples\\' Day week/weekend. Coastal and southern Maine generally reach peak or near peak conditions mid-to-last October.')\n",
    "\n",
    "# make a list of tokens\n",
    "tokens = [x for x in doc]"
   ]
  },
  {
   "cell_type": "markdown",
   "metadata": {},
   "source": [
    "# Binary Recursive"
   ]
  },
  {
   "cell_type": "code",
   "execution_count": 4,
   "metadata": {},
   "outputs": [
    {
     "name": "stdout",
     "output_type": "stream",
     "text": [
      "farms\n"
     ]
    }
   ],
   "source": [
    "def find_binary_recursive(token_list, low, high, index):\n",
    "    \"\"\" \n",
    "    finds a token or entity whose text matches the input. This code comes from https://www.geeksforgeeks.org/python-program-for-binary-search/\n",
    "\n",
    "    :param token_list: a list of tokens\n",
    "    :type token_list: list\n",
    "    :param low: the low point in the list to look at \n",
    "    :type low: int\n",
    "    :param high: the high point in the list to look at\n",
    "    :type high: int\n",
    "    :param index: the index we are looking to find the closest token to\n",
    "    :type index: int\n",
    "    :returns: a token\n",
    "    :rtype: token\n",
    "    \"\"\"\n",
    "    # Check base case\n",
    "    if high >= low:\n",
    " \n",
    "        mid = (high + low) // 2\n",
    "\n",
    "        # If element is present at the middle itself\n",
    "        if token_list[mid].idx <= index and (token_list[mid].idx+len(token_list[mid].text)) >= index:\n",
    "            return token_list[mid]\n",
    " \n",
    "        # If element is smaller than mid, then it can only\n",
    "        # be present in left subarray\n",
    "        elif token_list[mid].idx  > index:\n",
    "            return find_binary_recursive(token_list, low, mid - 1, index)\n",
    " \n",
    "        # Else the element can only be present in right subarray\n",
    "        else:\n",
    "            return find_binary_recursive(token_list, mid + 1, high, index)\n",
    " \n",
    "    else:\n",
    "        # Element is not present in the array\n",
    "        return None\n",
    "    \n",
    "# find the token closest to index 35\n",
    "print(find_binary_recursive(tokens, 0, len(tokens), 35))"
   ]
  },
  {
   "cell_type": "markdown",
   "metadata": {},
   "source": [
    "# Binary Iterative"
   ]
  },
  {
   "cell_type": "code",
   "execution_count": 5,
   "metadata": {},
   "outputs": [
    {
     "name": "stdout",
     "output_type": "stream",
     "text": [
      "farms\n"
     ]
    }
   ],
   "source": [
    "def find_binary_iterative(token_list, index):\n",
    "    \"\"\" \n",
    "    finds a token or entity whose text matches the input. This code comes from https://www.geeksforgeeks.org/python-program-for-binary-search/\n",
    "\n",
    "    :param token_list: a list of tokens\n",
    "    :type token_list: list\n",
    "    :param index: the index we are looking to find the closest token to\n",
    "    :type index: int\n",
    "    :returns: a token\n",
    "    :rtype: token\n",
    "    \"\"\"\n",
    "    low = 0\n",
    "    high = len(token_list) - 1\n",
    "    mid = 0\n",
    " \n",
    "    while low <= high:\n",
    " \n",
    "        mid = (high + low) // 2\n",
    " \n",
    "        # If x is at mid, return it\n",
    "        if token_list[mid].idx <= index and (token_list[mid].idx+len(token_list[mid].text)) >= index:\n",
    "            return token_list[mid]\n",
    "        \n",
    " \n",
    "        # If x is smaller, ignore right half\n",
    "        elif token_list[mid].idx > index:\n",
    "            high = mid - 1\n",
    " \n",
    "        # If x is greater, ignore left half\n",
    "        else:\n",
    "            low = mid + 1\n",
    " \n",
    "    # If we reach here, then the element was not present\n",
    "    return None\n",
    "\n",
    "# find the token closest to index 35\n",
    "print(find_binary_iterative(tokens, 35))"
   ]
  },
  {
   "cell_type": "markdown",
   "metadata": {},
   "source": [
    "## Timing functions"
   ]
  },
  {
   "cell_type": "code",
   "execution_count": 8,
   "metadata": {},
   "outputs": [
    {
     "name": "stdout",
     "output_type": "stream",
     "text": [
      "3.15 µs ± 383 ns per loop (mean ± std. dev. of 7 runs, 100,000 loops each)\n"
     ]
    }
   ],
   "source": [
    "%timeit find_binary_recursive(tokens, 0, len(tokens), 35)"
   ]
  },
  {
   "cell_type": "code",
   "execution_count": 9,
   "metadata": {},
   "outputs": [
    {
     "name": "stdout",
     "output_type": "stream",
     "text": [
      "2.64 µs ± 498 ns per loop (mean ± std. dev. of 7 runs, 100,000 loops each)\n"
     ]
    }
   ],
   "source": [
    "%timeit find_binary_iterative(tokens, 35)"
   ]
  },
  {
   "cell_type": "code",
   "execution_count": null,
   "metadata": {},
   "outputs": [],
   "source": []
  }
 ],
 "metadata": {
  "kernelspec": {
   "display_name": "Python 3",
   "language": "python",
   "name": "python3"
  },
  "language_info": {
   "codemirror_mode": {
    "name": "ipython",
    "version": 3
   },
   "file_extension": ".py",
   "mimetype": "text/x-python",
   "name": "python",
   "nbconvert_exporter": "python",
   "pygments_lexer": "ipython3",
   "version": "3.10.8"
  }
 },
 "nbformat": 4,
 "nbformat_minor": 2
}
