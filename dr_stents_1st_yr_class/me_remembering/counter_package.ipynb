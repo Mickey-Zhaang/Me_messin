{
 "cells": [
  {
   "cell_type": "markdown",
   "metadata": {},
   "source": [
    "# Initializing spaCy and Counter"
   ]
  },
  {
   "cell_type": "code",
   "execution_count": 6,
   "metadata": {},
   "outputs": [],
   "source": [
    "from collections import Counter\n",
    "import spacy\n",
    "nlp = spacy.load('en_core_web_sm')\n",
    "my_doc = nlp('Hello World, the World is bright and beautifil today.')"
   ]
  },
  {
   "cell_type": "code",
   "execution_count": 24,
   "metadata": {},
   "outputs": [
    {
     "name": "stdout",
     "output_type": "stream",
     "text": [
      "{'Hello': 1, 'World': 2, ',': 1, 'the': 1, 'is': 1, 'bright': 1, 'and': 1, 'beautifil': 1, 'today': 1, '.': 1}\n"
     ]
    }
   ],
   "source": [
    "#getting a list of tokens with a list comprehension\n",
    "tokens = [token.text for token in my_doc]\n",
    "#using the Counter class from collections to generate counts\n",
    "#we can see that the Counter takes `a list as input`, but it can also take strings or tuples\n",
    "token_counts = Counter(tokens)\n",
    "#here we convert the ouput of the Counter into a dict so we can directly access the counts\n",
    "print(dict(token_counts))"
   ]
  }
 ],
 "metadata": {
  "kernelspec": {
   "display_name": "Python 3",
   "language": "python",
   "name": "python3"
  },
  "language_info": {
   "codemirror_mode": {
    "name": "ipython",
    "version": 3
   },
   "file_extension": ".py",
   "mimetype": "text/x-python",
   "name": "python",
   "nbconvert_exporter": "python",
   "pygments_lexer": "ipython3",
   "version": "3.10.8"
  }
 },
 "nbformat": 4,
 "nbformat_minor": 2
}
