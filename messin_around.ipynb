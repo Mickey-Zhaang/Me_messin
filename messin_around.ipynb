{
 "cells": [
  {
   "cell_type": "markdown",
   "metadata": {},
   "source": [
    "# Codespace For Me To Be Messin Around\n",
    "resources: https://education.github.com/git-cheat-sheet-education.pdf\n",
    "\n",
    "GPT: https://chat.openai.com/ "
   ]
  },
  {
   "cell_type": "code",
   "execution_count": 7,
   "metadata": {},
   "outputs": [],
   "source": [
    "%load_ext autoreload\n",
    "%autoreload 2"
   ]
  },
  {
   "cell_type": "code",
   "execution_count": 53,
   "metadata": {},
   "outputs": [
    {
     "name": "stdout",
     "output_type": "stream",
     "text": [
      "[5, 9, 6]\n",
      "[9, 1, 2]\n",
      "[9, 8, 3]\n",
      "[9, 6, 7]\n"
     ]
    }
   ],
   "source": [
    "from qol_functions import make_data_type\n",
    "\n",
    "my_dict = make_data_type('list', 'list', 4)\n"
   ]
  },
  {
   "cell_type": "code",
   "execution_count": 31,
   "metadata": {},
   "outputs": [
    {
     "name": "stdout",
     "output_type": "stream",
     "text": [
      "Help on function make_data_type in module qol_functions:\n",
      "\n",
      "make_data_type(desired_data_type, data=None, length=None)\n",
      "    This is just a qol function to randomly generate me a complex datalist type\n",
      "    :param desired_data_type: Here is a list of available options [list, set, dict, list_of_tuples, list_of_sets, list_of_dicts, nested_list, nested_dict]\n",
      "    :type desired_data_type: str\n",
      "    :param data: The default for data is an int: Here is a list of available options [str, list, set, dict]\n",
      "    :type data: str\n",
      "    :param length: how long you want your list, set, dict, or how many tuples in an iterable, or how many nested elements in an iterable\n",
      "    :type length: int\n",
      "\n"
     ]
    }
   ],
   "source": [
    "help(make_data_type)"
   ]
  },
  {
   "cell_type": "code",
   "execution_count": null,
   "metadata": {},
   "outputs": [],
   "source": []
  }
 ],
 "metadata": {
  "kernelspec": {
   "display_name": "Python 3",
   "language": "python",
   "name": "python3"
  },
  "language_info": {
   "codemirror_mode": {
    "name": "ipython",
    "version": 3
   },
   "file_extension": ".py",
   "mimetype": "text/x-python",
   "name": "python",
   "nbconvert_exporter": "python",
   "pygments_lexer": "ipython3",
   "version": "3.10.8"
  },
  "orig_nbformat": 4
 },
 "nbformat": 4,
 "nbformat_minor": 2
}
