{
 "cells": [
  {
   "cell_type": "markdown",
   "metadata": {},
   "source": [
    "# Codespace For Me To Be Messin Around\n",
    "resources: https://education.github.com/git-cheat-sheet-education.pdf\n",
    "\n",
    "GPT: https://chat.openai.com/ "
   ]
  },
  {
   "cell_type": "code",
   "execution_count": 1,
   "metadata": {},
   "outputs": [
    {
     "name": "stdout",
     "output_type": "stream",
     "text": [
      "mickey is not even ready for a bicycle!\n"
     ]
    }
   ],
   "source": [
    "\n",
    "user_name = input(\"What dost thou sayeth thy name to be?\")\n",
    "user_age = input(\"... And thy age?\")\n",
    "\n",
    "\n",
    "while True:\n",
    "    try:\n",
    "        user_age = int(user_age)\n",
    "        if user_age < 5:\n",
    "            print(f\"{user_name} is not even ready for a bicycle!\")\n",
    "        elif user_age <= 15:\n",
    "            user_1 = \"Not able to Drive\"\n",
    "            print(f\"{user_name} is not old enough to drive.\")\n",
    "        elif user_age > 15 and user_age < 120:\n",
    "            print(f\"{user_name} is old enough to drive.\")\n",
    "        else:\n",
    "            user_age = input(\"Are you drunk or something?\")\n",
    "            continue\n",
    "        break\n",
    "    except:\n",
    "        user_age = input(\"Are you drunk or something?\")\n",
    "\n",
    "\n",
    "\n"
   ]
  },
  {
   "cell_type": "code",
   "execution_count": 1,
   "metadata": {},
   "outputs": [],
   "source": [
    "# Here is my attempt at making a primitive wordle using Python... wish me luck!\n",
    "\n",
    "import random\n",
    "# this is irrelevant to my first attempt\n",
    "words = [\"Prom?\"]\n",
    "user_input = input(\" __ __ __ __ __ : 5 attempt to guess the 5 letter word\")\n",
    "turns = 5\n",
    "pos_p = 0\n",
    "pos_r = 1\n",
    "pos_o = 2\n",
    "pos_m = 3\n",
    "pos_1 = 4\n",
    "\n",
    "user_input = user_input.lower()\n",
    "\n",
    "while turns > 0:\n",
    "    if user_input == 'Prom?':\n",
    "        print(\"P r o m ?\")\n",
    "    elif len(user_input) > pos_p and user_input[pos_p] == \"p\":\n",
    "        print(\"P _ _ _ _\")\n",
    "    elif len(user_input) > pos_r and user_input[pos_r] == \"r\":\n",
    "        print(\"_ r _ _ _\")\n",
    "    elif len(user_input) > pos_o and user_input[pos_o] == \"o\":\n",
    "        print(\"_ _ o _ _\")\n",
    "    elif len(user_input) > pos_m and user_input[pos_m] == \"m\":\n",
    "        print(\"_ _ _ m _\")\n",
    "    elif len(user_input) > pos_1 and user_input[pos_1] == \"?\":\n",
    "        print(\"_ _ _ _ ?\")\n",
    "    elif user_input == 'del':\n",
    "        break\n",
    "    else:\n",
    "        print(\"_ _ _ _ _\")\n",
    "\n",
    "\n"
   ]
  },
  {
   "cell_type": "code",
   "execution_count": 14,
   "metadata": {},
   "outputs": [
    {
     "name": "stdout",
     "output_type": "stream",
     "text": [
      "P _ _ _ _\n"
     ]
    }
   ],
   "source": [
    "# here is a workshop to test code blocks outside of anything messy i.e. while loops\n",
    "words = [\"Prom?\"]\n",
    "user_input = input(\" __ __ __ __ __ : 5 attempt to guess the 5 letter word\")\n",
    "turns = 5\n",
    "pos_p = 0\n",
    "pos_r = 1\n",
    "pos_o = 2\n",
    "pos_m = 3\n",
    "pos_1 = 4\n",
    "\n",
    "user_input = user_input.lower()\n",
    "\n",
    "\n",
    "if user_input == 'prom?':\n",
    "    print(\"P r o m ?\")\n",
    "elif len(user_input) > pos_p and user_input[pos_p] == \"p\":\n",
    "    print(\"P _ _ _ _\")\n",
    "elif len(user_input) > pos_r and user_input[pos_r] == \"r\":\n",
    "    print(\"_ r _ _ _\")\n",
    "elif len(user_input) > pos_o and user_input[pos_o] == \"o\":\n",
    "    print(\"_ _ o _ _\")\n",
    "elif len(user_input) > pos_m and user_input[pos_m] == \"m\":\n",
    "    print(\"_ _ _ m _\")\n",
    "elif len(user_input) > pos_1 and user_input[pos_1] == \"?\":\n",
    "    print(\"_ _ _ _ ?\")\n",
    "else:\n",
    "    print(\"_ _ _ _ _\")"
   ]
  },
  {
   "cell_type": "code",
   "execution_count": 3,
   "metadata": {},
   "outputs": [
    {
     "name": "stdout",
     "output_type": "stream",
     "text": [
      "Invalid input. Please enter a single letter or the full word 'del' to exit.\n",
      "Invalid input. Please enter a single letter or the full word 'del' to exit.\n",
      "_ _ _ _ _\n"
     ]
    }
   ],
   "source": [
    "word_to_guess = \"prom?\"\n",
    "user_input = input(\" __ __ __ __ __ : 5 attempts to guess the 5 letter word\").lower()\n",
    "turns = 5\n",
    "correct_guesses = [\"_\"] * len(word_to_guess)\n",
    "\n",
    "while turns > 0:\n",
    "    if user_input == word_to_guess:\n",
    "        print(\" \".join(correct_guesses))\n",
    "        print(word_to_guess)\n",
    "        break\n",
    "    elif len(user_input) == 5 and user_input.isalpha():\n",
    "        if user_input in word_to_guess:\n",
    "            for i in range(len(word_to_guess)):\n",
    "                if word_to_guess[i] == user_input:\n",
    "                    correct_guesses[i] = user_input\n",
    "            print(\" \".join(correct_guesses))\n",
    "        else:\n",
    "            print(\" \".join(correct_guesses))\n",
    "    elif user_input == 'del':\n",
    "        break\n",
    "    else:\n",
    "        print(\"Invalid input. Please enter a single letter or the full word 'del' to exit.\")\n",
    "    \n",
    "    turns -= 1\n",
    "\n",
    "    if turns > 0:\n",
    "        user_input = input(f\"You have {turns} attempts left. Enter your guess: \").lower()\n",
    "\n",
    "if turns == 0 and \"\".join(correct_guesses) != word_to_guess:\n",
    "    print(\"Out of attempts. The word was:\", word_to_guess)"
   ]
  },
  {
   "cell_type": "code",
   "execution_count": null,
   "metadata": {},
   "outputs": [],
   "source": [
    "word_to_guess = \"prom?\"\n",
    "user_input = input(\" __ __ __ __ __ : 5 attempts to guess the 5 letter word\").lower()\n",
    "turns = 5\n",
    "correct_guesses = [\"_\"] * len(word_to_guess)\n",
    "\n",
    "while turns > 0:\n",
    "    if user_input == word_to_guess:\n",
    "        print(\" \".join(correct_guesses))\n",
    "        print(word_to_guess)\n",
    "        break\n",
    "    elif len(user_input) == 5 and user_input.isalpha():\n",
    "        for i in range(len(word_to_guess)):\n",
    "            if word_to_guess[i] == user_input[i]:\n",
    "                correct_guesses[i] = user_input[i]\n",
    "        print(\" \".join(correct_guesses))\n",
    "    elif user_input == 'del':\n",
    "        break\n",
    "    else:\n",
    "        print(\"Invalid input. Please enter a single letter or the full word 'del' to exit.\")\n",
    "    \n",
    "    turns -= 1\n",
    "\n",
    "    if turns > 0:\n",
    "        user_input = input(f\"You have {turns} attempts left. Enter your guess: \").lower()\n",
    "\n",
    "if turns == 0 and \"\".join(correct_guesses) != word_to_guess:\n",
    "    print(\"Out of attempts. The word was:\", word_to_guess)"
   ]
  }
 ],
 "metadata": {
  "kernelspec": {
   "display_name": "Python 3",
   "language": "python",
   "name": "python3"
  },
  "language_info": {
   "codemirror_mode": {
    "name": "ipython",
    "version": 3
   },
   "file_extension": ".py",
   "mimetype": "text/x-python",
   "name": "python",
   "nbconvert_exporter": "python",
   "pygments_lexer": "ipython3",
   "version": "3.10.8"
  },
  "orig_nbformat": 4
 },
 "nbformat": 4,
 "nbformat_minor": 2
}
