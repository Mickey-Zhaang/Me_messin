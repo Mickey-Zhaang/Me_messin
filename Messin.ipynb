{
 "cells": [
  {
   "cell_type": "markdown",
   "metadata": {},
   "source": [
    "# Codespace For Me To Be Messin Around\n",
    "resources: https://education.github.com/git-cheat-sheet-education.pdf\n",
    "\n",
    "GPT: https://chat.openai.com/ "
   ]
  },
  {
   "cell_type": "code",
   "execution_count": 11,
   "metadata": {},
   "outputs": [
    {
     "name": "stdout",
     "output_type": "stream",
     "text": [
      "Requirement already satisfied: spacypdfreader in /usr/local/python/3.10.8/lib/python3.10/site-packages (0.3.0)\n",
      "Requirement already satisfied: numpy<2.0.0,>=1.24.2 in /home/codespace/.local/lib/python3.10/site-packages (from spacypdfreader) (1.25.2)\n",
      "Requirement already satisfied: pdfminer.six<20211013,>=20211012 in /usr/local/python/3.10.8/lib/python3.10/site-packages (from spacypdfreader) (20211012)\n",
      "Requirement already satisfied: rich<11.0.0,>=10.15.2 in /usr/local/python/3.10.8/lib/python3.10/site-packages (from spacypdfreader) (10.16.2)\n",
      "Requirement already satisfied: spacy<4.0,>=3.4 in /usr/local/python/3.10.8/lib/python3.10/site-packages (from spacypdfreader) (3.6.1)\n",
      "Requirement already satisfied: cryptography in /home/codespace/.local/lib/python3.10/site-packages (from pdfminer.six<20211013,>=20211012->spacypdfreader) (41.0.3)\n",
      "Requirement already satisfied: chardet in /usr/local/python/3.10.8/lib/python3.10/site-packages (from pdfminer.six<20211013,>=20211012->spacypdfreader) (5.2.0)\n",
      "Requirement already satisfied: colorama<0.5.0,>=0.4.0 in /home/codespace/.local/lib/python3.10/site-packages (from rich<11.0.0,>=10.15.2->spacypdfreader) (0.4.6)\n",
      "Requirement already satisfied: commonmark<0.10.0,>=0.9.0 in /usr/local/python/3.10.8/lib/python3.10/site-packages (from rich<11.0.0,>=10.15.2->spacypdfreader) (0.9.1)\n",
      "Requirement already satisfied: pygments<3.0.0,>=2.6.0 in /home/codespace/.local/lib/python3.10/site-packages (from rich<11.0.0,>=10.15.2->spacypdfreader) (2.16.1)\n",
      "Requirement already satisfied: spacy-legacy<3.1.0,>=3.0.11 in /usr/local/python/3.10.8/lib/python3.10/site-packages (from spacy<4.0,>=3.4->spacypdfreader) (3.0.12)\n",
      "Requirement already satisfied: spacy-loggers<2.0.0,>=1.0.0 in /usr/local/python/3.10.8/lib/python3.10/site-packages (from spacy<4.0,>=3.4->spacypdfreader) (1.0.4)\n",
      "Requirement already satisfied: murmurhash<1.1.0,>=0.28.0 in /usr/local/python/3.10.8/lib/python3.10/site-packages (from spacy<4.0,>=3.4->spacypdfreader) (1.0.9)\n",
      "Requirement already satisfied: cymem<2.1.0,>=2.0.2 in /usr/local/python/3.10.8/lib/python3.10/site-packages (from spacy<4.0,>=3.4->spacypdfreader) (2.0.7)\n",
      "Requirement already satisfied: preshed<3.1.0,>=3.0.2 in /usr/local/python/3.10.8/lib/python3.10/site-packages (from spacy<4.0,>=3.4->spacypdfreader) (3.0.8)\n",
      "Requirement already satisfied: thinc<8.2.0,>=8.1.8 in /usr/local/python/3.10.8/lib/python3.10/site-packages (from spacy<4.0,>=3.4->spacypdfreader) (8.1.12)\n",
      "Requirement already satisfied: wasabi<1.2.0,>=0.9.1 in /usr/local/python/3.10.8/lib/python3.10/site-packages (from spacy<4.0,>=3.4->spacypdfreader) (1.1.2)\n",
      "Requirement already satisfied: srsly<3.0.0,>=2.4.3 in /usr/local/python/3.10.8/lib/python3.10/site-packages (from spacy<4.0,>=3.4->spacypdfreader) (2.4.7)\n",
      "Requirement already satisfied: catalogue<2.1.0,>=2.0.6 in /usr/local/python/3.10.8/lib/python3.10/site-packages (from spacy<4.0,>=3.4->spacypdfreader) (2.0.9)\n",
      "Requirement already satisfied: typer<0.10.0,>=0.3.0 in /usr/local/python/3.10.8/lib/python3.10/site-packages (from spacy<4.0,>=3.4->spacypdfreader) (0.9.0)\n",
      "Requirement already satisfied: pathy>=0.10.0 in /usr/local/python/3.10.8/lib/python3.10/site-packages (from spacy<4.0,>=3.4->spacypdfreader) (0.10.2)\n",
      "Requirement already satisfied: smart-open<7.0.0,>=5.2.1 in /usr/local/python/3.10.8/lib/python3.10/site-packages (from spacy<4.0,>=3.4->spacypdfreader) (6.4.0)\n",
      "Requirement already satisfied: tqdm<5.0.0,>=4.38.0 in /usr/local/python/3.10.8/lib/python3.10/site-packages (from spacy<4.0,>=3.4->spacypdfreader) (4.66.1)\n",
      "Requirement already satisfied: requests<3.0.0,>=2.13.0 in /home/codespace/.local/lib/python3.10/site-packages (from spacy<4.0,>=3.4->spacypdfreader) (2.31.0)\n",
      "Requirement already satisfied: pydantic!=1.8,!=1.8.1,<3.0.0,>=1.7.4 in /usr/local/python/3.10.8/lib/python3.10/site-packages (from spacy<4.0,>=3.4->spacypdfreader) (2.3.0)\n",
      "Requirement already satisfied: jinja2 in /home/codespace/.local/lib/python3.10/site-packages (from spacy<4.0,>=3.4->spacypdfreader) (3.1.2)\n",
      "Requirement already satisfied: setuptools in /home/codespace/.local/lib/python3.10/site-packages (from spacy<4.0,>=3.4->spacypdfreader) (68.0.0)\n",
      "Requirement already satisfied: packaging>=20.0 in /home/codespace/.local/lib/python3.10/site-packages (from spacy<4.0,>=3.4->spacypdfreader) (23.1)\n",
      "Requirement already satisfied: langcodes<4.0.0,>=3.2.0 in /usr/local/python/3.10.8/lib/python3.10/site-packages (from spacy<4.0,>=3.4->spacypdfreader) (3.3.0)\n",
      "Requirement already satisfied: annotated-types>=0.4.0 in /usr/local/python/3.10.8/lib/python3.10/site-packages (from pydantic!=1.8,!=1.8.1,<3.0.0,>=1.7.4->spacy<4.0,>=3.4->spacypdfreader) (0.5.0)\n",
      "Requirement already satisfied: pydantic-core==2.6.3 in /usr/local/python/3.10.8/lib/python3.10/site-packages (from pydantic!=1.8,!=1.8.1,<3.0.0,>=1.7.4->spacy<4.0,>=3.4->spacypdfreader) (2.6.3)\n",
      "Requirement already satisfied: typing-extensions>=4.6.1 in /home/codespace/.local/lib/python3.10/site-packages (from pydantic!=1.8,!=1.8.1,<3.0.0,>=1.7.4->spacy<4.0,>=3.4->spacypdfreader) (4.7.1)\n",
      "Requirement already satisfied: charset-normalizer<4,>=2 in /home/codespace/.local/lib/python3.10/site-packages (from requests<3.0.0,>=2.13.0->spacy<4.0,>=3.4->spacypdfreader) (3.2.0)\n",
      "Requirement already satisfied: idna<4,>=2.5 in /home/codespace/.local/lib/python3.10/site-packages (from requests<3.0.0,>=2.13.0->spacy<4.0,>=3.4->spacypdfreader) (3.4)\n",
      "Requirement already satisfied: urllib3<3,>=1.21.1 in /home/codespace/.local/lib/python3.10/site-packages (from requests<3.0.0,>=2.13.0->spacy<4.0,>=3.4->spacypdfreader) (2.0.4)\n",
      "Requirement already satisfied: certifi>=2017.4.17 in /home/codespace/.local/lib/python3.10/site-packages (from requests<3.0.0,>=2.13.0->spacy<4.0,>=3.4->spacypdfreader) (2023.7.22)\n",
      "Requirement already satisfied: blis<0.8.0,>=0.7.8 in /usr/local/python/3.10.8/lib/python3.10/site-packages (from thinc<8.2.0,>=8.1.8->spacy<4.0,>=3.4->spacypdfreader) (0.7.10)\n",
      "Requirement already satisfied: confection<1.0.0,>=0.0.1 in /usr/local/python/3.10.8/lib/python3.10/site-packages (from thinc<8.2.0,>=8.1.8->spacy<4.0,>=3.4->spacypdfreader) (0.1.2)\n",
      "Requirement already satisfied: click<9.0.0,>=7.1.1 in /usr/local/python/3.10.8/lib/python3.10/site-packages (from typer<0.10.0,>=0.3.0->spacy<4.0,>=3.4->spacypdfreader) (8.1.7)\n",
      "Requirement already satisfied: cffi>=1.12 in /home/codespace/.local/lib/python3.10/site-packages (from cryptography->pdfminer.six<20211013,>=20211012->spacypdfreader) (1.15.1)\n",
      "Requirement already satisfied: MarkupSafe>=2.0 in /home/codespace/.local/lib/python3.10/site-packages (from jinja2->spacy<4.0,>=3.4->spacypdfreader) (2.1.3)\n",
      "Requirement already satisfied: pycparser in /home/codespace/.local/lib/python3.10/site-packages (from cffi>=1.12->cryptography->pdfminer.six<20211013,>=20211012->spacypdfreader) (2.21)\n",
      "Note: you may need to restart the kernel to use updated packages.\n"
     ]
    },
    {
     "ename": "ModuleNotFoundError",
     "evalue": "No module named 'pdf2image'",
     "output_type": "error",
     "traceback": [
      "\u001b[0;31m---------------------------------------------------------------------------\u001b[0m",
      "\u001b[0;31mModuleNotFoundError\u001b[0m                       Traceback (most recent call last)",
      "\u001b[1;32m/workspaces/Me_messin/Messin.ipynb Cell 2\u001b[0m line \u001b[0;36m3\n\u001b[1;32m      <a href='vscode-notebook-cell://codespaces%2Bcuddly-goldfish-q7qxwwpw7677cxq64/workspaces/Me_messin/Messin.ipynb#W6sdnNjb2RlLXJlbW90ZQ%3D%3D?line=0'>1</a>\u001b[0m get_ipython()\u001b[39m.\u001b[39mrun_line_magic(\u001b[39m'\u001b[39m\u001b[39mpip\u001b[39m\u001b[39m'\u001b[39m, \u001b[39m'\u001b[39m\u001b[39minstall spacypdfreader\u001b[39m\u001b[39m'\u001b[39m)\n\u001b[1;32m      <a href='vscode-notebook-cell://codespaces%2Bcuddly-goldfish-q7qxwwpw7677cxq64/workspaces/Me_messin/Messin.ipynb#W6sdnNjb2RlLXJlbW90ZQ%3D%3D?line=1'>2</a>\u001b[0m \u001b[39mimport\u001b[39;00m \u001b[39mspacy\u001b[39;00m\n\u001b[0;32m----> <a href='vscode-notebook-cell://codespaces%2Bcuddly-goldfish-q7qxwwpw7677cxq64/workspaces/Me_messin/Messin.ipynb#W6sdnNjb2RlLXJlbW90ZQ%3D%3D?line=2'>3</a>\u001b[0m \u001b[39mfrom\u001b[39;00m \u001b[39mspacypdfreader\u001b[39;00m\u001b[39m.\u001b[39;00m\u001b[39mspacypdfreader\u001b[39;00m \u001b[39mimport\u001b[39;00m pdf_reader\n\u001b[1;32m      <a href='vscode-notebook-cell://codespaces%2Bcuddly-goldfish-q7qxwwpw7677cxq64/workspaces/Me_messin/Messin.ipynb#W6sdnNjb2RlLXJlbW90ZQ%3D%3D?line=4'>5</a>\u001b[0m \u001b[39mimport\u001b[39;00m \u001b[39mspacy\u001b[39;00m\n\u001b[1;32m      <a href='vscode-notebook-cell://codespaces%2Bcuddly-goldfish-q7qxwwpw7677cxq64/workspaces/Me_messin/Messin.ipynb#W6sdnNjb2RlLXJlbW90ZQ%3D%3D?line=5'>6</a>\u001b[0m \u001b[39mfrom\u001b[39;00m \u001b[39mspacypdfreader\u001b[39;00m\u001b[39m.\u001b[39;00m\u001b[39mspacypdfreader\u001b[39;00m \u001b[39mimport\u001b[39;00m pdf_reader\n",
      "File \u001b[0;32m~/.python/current/lib/python3.10/site-packages/spacypdfreader/spacypdfreader.py:12\u001b[0m\n\u001b[1;32m     10\u001b[0m \u001b[39mfrom\u001b[39;00m \u001b[39m.\u001b[39;00m\u001b[39m_utils\u001b[39;00m \u001b[39mimport\u001b[39;00m _filter_doc_by_page, _get_number_of_pages\n\u001b[1;32m     11\u001b[0m \u001b[39mfrom\u001b[39;00m \u001b[39m.\u001b[39;00m\u001b[39mconsole\u001b[39;00m \u001b[39mimport\u001b[39;00m console\n\u001b[0;32m---> 12\u001b[0m \u001b[39mfrom\u001b[39;00m \u001b[39m.\u001b[39;00m\u001b[39mparsers\u001b[39;00m \u001b[39mimport\u001b[39;00m pdfminer, pytesseract\n\u001b[1;32m     14\u001b[0m \u001b[39m# Set up the spacy custom extensions.\u001b[39;00m\n\u001b[1;32m     16\u001b[0m \u001b[39mif\u001b[39;00m \u001b[39mnot\u001b[39;00m Token\u001b[39m.\u001b[39mhas_extension(\u001b[39m\"\u001b[39m\u001b[39mpage_number\u001b[39m\u001b[39m\"\u001b[39m):\n",
      "File \u001b[0;32m~/.python/current/lib/python3.10/site-packages/spacypdfreader/parsers/pytesseract.py:4\u001b[0m\n\u001b[1;32m      1\u001b[0m \u001b[39mimport\u001b[39;00m \u001b[39mtempfile\u001b[39;00m\n\u001b[1;32m      2\u001b[0m \u001b[39mfrom\u001b[39;00m \u001b[39mpathlib\u001b[39;00m \u001b[39mimport\u001b[39;00m Path\n\u001b[0;32m----> 4\u001b[0m \u001b[39mfrom\u001b[39;00m \u001b[39mpdf2image\u001b[39;00m \u001b[39mimport\u001b[39;00m convert_from_path\n\u001b[1;32m      5\u001b[0m \u001b[39mfrom\u001b[39;00m \u001b[39mPIL\u001b[39;00m \u001b[39mimport\u001b[39;00m Image\n\u001b[1;32m      6\u001b[0m \u001b[39mfrom\u001b[39;00m \u001b[39mpytesseract\u001b[39;00m \u001b[39mimport\u001b[39;00m image_to_string\n",
      "\u001b[0;31mModuleNotFoundError\u001b[0m: No module named 'pdf2image'"
     ]
    }
   ],
   "source": [
    "%pip install spacypdfreader\n",
    "import spacy\n",
    "from spacypdfreader.spacypdfreader import pdf_reader\n",
    "\n",
    "nlp = spacy.load('en_core_web_sm')\n",
    "doc = pdf_reader(PDf.pdf, nlp)\n",
    "\n",
    "# Get the page number of any token.\n",
    "print(doc[0]._.page_number)  # 1\n",
    "print(doc[-1]._.page_number) # 4\n",
    "\n",
    "# Get page meta data about the PDF document.\n",
    "print(doc._.pdf_file_name)   # 'tests/data/test_pdf_01.pdf'\n",
    "print(doc._.page_range)      # (1, 4)\n",
    "print(doc._.first_page)      # 1\n",
    "print(doc._.last_page)       # 4\n"
   ]
  },
  {
   "cell_type": "code",
   "execution_count": 55,
   "metadata": {},
   "outputs": [
    {
     "name": "stdout",
     "output_type": "stream",
     "text": [
      "{0: '0', 1: '1', 2: '2', 3: '3', 4: '4'}\n"
     ]
    }
   ],
   "source": [
    "# messed up on quiz\n",
    "my_dictionary = {}\n",
    "for i in range(5):\n",
    "    my_dictionary[i] = str(i)\n",
    "print(my_dictionary)\n"
   ]
  },
  {
   "cell_type": "code",
   "execution_count": 4,
   "metadata": {},
   "outputs": [
    {
     "name": "stdout",
     "output_type": "stream",
     "text": [
      "mickey is not old enough to drive.\n"
     ]
    }
   ],
   "source": [
    "# interesting problem\n",
    "user_name = input(\"What dost thou sayeth thy name to be?\")\n",
    "user_age = input(\"... And thy age?\")\n",
    "\n",
    "\n",
    "while True:\n",
    "    try:\n",
    "        user_age = int(user_age)\n",
    "        if user_age < 5:\n",
    "            print(f\"{user_name} is not even ready for a bicycle!\")\n",
    "        elif user_age <= 15:\n",
    "            user_1 = \"Not able to Drive\"\n",
    "            print(f\"{user_name} is not old enough to drive.\")\n",
    "        elif user_age > 15 and user_age < 120:\n",
    "            print(f\"{user_name} is old enough to drive.\")\n",
    "        else:\n",
    "            user_age = input(\"Are you drunk or something?\")\n",
    "            continue\n",
    "        break\n",
    "    except:\n",
    "        user_age = input(\"Are you drunk or something?\")\n",
    "\n"
   ]
  },
  {
   "cell_type": "code",
   "execution_count": 2,
   "metadata": {},
   "outputs": [],
   "source": [
    "# quiz problem I missed\n",
    "\n",
    "# my answer\n",
    "try:\n",
    "    number = 2\n",
    "    while number > -1:\n",
    "        number = int(input(\"Give a number.\"))\n",
    "        if number >= 6:\n",
    "            print('Give a number less than 6!')\n",
    "        else:\n",
    "            for i in range (number, 6):\n",
    "                print(i)\n",
    "      \n",
    "# Prof. Answer\n",
    "number = 2\n",
    "while number > -1:\n",
    "  try:\n",
    "    number = int(input('Give a number: '))\n",
    "  except:\n",
    "    print('Give a number!')\n",
    "  if number >= 6:\n",
    "    print('Give a number less than 6!')\n",
    "  else:\n",
    "    for i in range(number, 6):\n",
    "      print(i)\n",
    "\n"
   ]
  },
  {
   "cell_type": "code",
   "execution_count": 13,
   "metadata": {},
   "outputs": [
    {
     "name": "stdout",
     "output_type": "stream",
     "text": [
      "a p p _ e\n",
      "Invalid input. Please enter a single letter or the full word 'del' to exit.\n",
      "a p p _ e\n",
      "apple\n"
     ]
    }
   ],
   "source": [
    "# primitive wordle for extension\n",
    "# @chat-GPT 3.5 for giving alternative(corrected) code/debugging this code. \n",
    "\n",
    "word_to_guess = \"apple\"\n",
    "# asks for the user to guess the x letter word\n",
    "user_input = input(f\"Guess the {len(word_to_guess)} letter word\")\n",
    "# defines how many tries/turns the user starts with\n",
    "turns = 5\n",
    "# defines a variable that stores the character indicator underneath the letters of word_to_guess\n",
    "correct_guesses = [\"_\"] * len(word_to_guess)\n",
    "\n",
    "# a while loops that sets a condition for turns > 0 to continuously run until turns = 0\n",
    "while turns > 0:\n",
    "    # here the if statement checks if the user's guess is eqal to the word_to_guess\n",
    "    if user_input == word_to_guess:\n",
    "        # this print statement uses the .join method to join together word_to_guess with spaces\n",
    "        print(\" \".join(correct_guesses))\n",
    "        # here the print statement will print the word_to_guess and breaks out of the while loop\n",
    "        print(word_to_guess)\n",
    "        break\n",
    "    # here the elif statemetns checks to see if the user_input is of length of word_to_guess and if the input was alphabetical\n",
    "    elif len(user_input) == len(word_to_guess) and user_input.isalpha():\n",
    "        # here a for loop will iterate char over the range of the length of word_to_guess\n",
    "        for char in range(len(word_to_guess)):\n",
    "            # this if statement checks to see if any of the characters/char match with the characters of word_to_guess hence the indexing using char\n",
    "            if word_to_guess[char] == user_input[char]:\n",
    "                # here the if statemetn will update correct_guesses to contain the char that the user correctly guessed in user_input\n",
    "                correct_guesses[char] = user_input[char]\n",
    "        # prints the updated correct_guesses assuming that user correctly guessed a char\n",
    "        print(\" \".join(correct_guesses))\n",
    "    # this is somethign I added to break out of the while loop when initially testing the code\n",
    "    elif user_input == 'del':\n",
    "        break\n",
    "    # if the user input anything that was not the length of the word_to_guess and wasn't alphebetical, then the print statement would return a message \n",
    "    else:\n",
    "        print(\"Invalid input. Please enter a single letter or the full word 'del' to exit.\")\n",
    "    # reduces turns by 1 for every iteration of the loop\n",
    "    turns -= 1\n",
    "    # if statement that checks if turns > 0 and if so then the input message will update to show how many turns user has left\n",
    "    if turns > 0:\n",
    "        user_input = input(f\"You have {turns} attempts left. Enter your guess: \").lower()\n",
    "# this if statement basically stops the while loop if the user runs out of turns and has not guessed the word_to_guess\n",
    "if turns == 0 and \"\".join(correct_guesses) != word_to_guess:\n",
    "    # prints the message to the user about what the word_to_guess was\n",
    "    print(\"Out of attempts. The word was:\", word_to_guess)"
   ]
  },
  {
   "cell_type": "code",
   "execution_count": null,
   "metadata": {},
   "outputs": [],
   "source": []
  }
 ],
 "metadata": {
  "kernelspec": {
   "display_name": "Python 3",
   "language": "python",
   "name": "python3"
  },
  "language_info": {
   "codemirror_mode": {
    "name": "ipython",
    "version": 3
   },
   "file_extension": ".py",
   "mimetype": "text/x-python",
   "name": "python",
   "nbconvert_exporter": "python",
   "pygments_lexer": "ipython3",
   "version": "3.10.8"
  },
  "orig_nbformat": 4
 },
 "nbformat": 4,
 "nbformat_minor": 2
}
