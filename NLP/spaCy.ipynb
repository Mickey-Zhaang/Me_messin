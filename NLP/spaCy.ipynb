{
 "cells": [
  {
   "cell_type": "markdown",
   "metadata": {},
   "source": [
    "# Initializing spaCy"
   ]
  },
  {
   "cell_type": "code",
   "execution_count": null,
   "metadata": {},
   "outputs": [],
   "source": [
    "%pip install spaCy\n",
    "!python -m spacy download en_core_web_sm\n",
    "%pip install -U spacy"
   ]
  },
  {
   "cell_type": "markdown",
   "metadata": {},
   "source": [
    "## Seting Up spaCy"
   ]
  },
  {
   "cell_type": "code",
   "execution_count": 2,
   "metadata": {},
   "outputs": [],
   "source": [
    "import spacy\n",
    "nlp = spacy.load('en_core_web_sm')"
   ]
  },
  {
   "cell_type": "markdown",
   "metadata": {},
   "source": [
    "## Running spaCy on a doc and Tokenization"
   ]
  },
  {
   "cell_type": "code",
   "execution_count": 3,
   "metadata": {},
   "outputs": [
    {
     "name": "stdout",
     "output_type": "stream",
     "text": [
      "['Colby', 'College', 'is', 'a', 'private', 'liberal', 'arts', 'college', 'in', 'Waterville', ',', 'Maine', '.', 'Founded', 'in', '1813', 'as', 'the', 'Maine', 'Literary', 'and', 'Theological', 'Institution', ',', 'it', 'was', 'renamed', 'Waterville', 'College', 'in', '1821', '.', 'The', 'donations', 'of', 'Christian', 'philanthropist', 'Gardner', 'Colby', 'saw', 'the', 'institution', 'renamed', 'again', 'to', 'Colby', 'University', 'before', 'settling', 'on', 'its', 'current', 'title', ',', 'reflecting', 'its', 'liberal', 'arts', 'college', 'curriculum', ',', 'in', '1899', '.', 'Approximately', '2,000', 'students', 'from', 'more', 'than', '60', 'countries', 'are', 'enrolled', 'annually', '.', 'The', 'college', 'offers', '54', 'major', 'fields', 'of', 'study', 'and', '30', 'minors', '.']\n"
     ]
    }
   ],
   "source": [
    "my_doc = nlp('Colby College is a private liberal arts college in Waterville, Maine. Founded in 1813 as the Maine Literary and Theological Institution, it was renamed Waterville College in 1821. The donations of Christian philanthropist Gardner Colby saw the institution renamed again to Colby University before settling on its current title, reflecting its liberal arts college curriculum, in 1899. Approximately 2,000 students from more than 60 countries are enrolled annually. The college offers 54 major fields of study and 30 minors.')\n",
    "\n",
    "tokens = [token.text for token in my_doc]\n",
    "\n",
    "print(tokens)"
   ]
  },
  {
   "cell_type": "markdown",
   "metadata": {},
   "source": [
    "## Making Tables"
   ]
  },
  {
   "cell_type": "code",
   "execution_count": 5,
   "metadata": {},
   "outputs": [],
   "source": [
    "import re # don't worry about this\n",
    "tokens_table = \"| Tokens | Lemmas | Coarse | Fine | Shapes | Morphology |\\n| ------ | ------ | ------ | ---- | ------ | ---------- | \\n\"\n",
    "# walk over the tokens in the document\n",
    "for token in my_doc:\n",
    "    # if the token's part of speech is not 'SPACE'\n",
    "    if token.pos_ != 'SPACE':\n",
    "        # add the the text, lemma, coarse- and fine-grained parts of speech, word shape and morphology for this token to `tokens_table`\n",
    "        tokens_table  += \"| \" + token.text + \" | \" + token.lemma_ + \" | \" + token.pos_ + \" | \" + token.tag_ + \" | \" + token.shape_ + \" | \" + re.sub(r'\\|', '#', str(token.morph)) + \" |\\n\""
   ]
  }
 ],
 "metadata": {
  "kernelspec": {
   "display_name": "Python 3",
   "language": "python",
   "name": "python3"
  },
  "language_info": {
   "codemirror_mode": {
    "name": "ipython",
    "version": 3
   },
   "file_extension": ".py",
   "mimetype": "text/x-python",
   "name": "python",
   "nbconvert_exporter": "python",
   "pygments_lexer": "ipython3",
   "version": "3.10.8"
  }
 },
 "nbformat": 4,
 "nbformat_minor": 2
}
